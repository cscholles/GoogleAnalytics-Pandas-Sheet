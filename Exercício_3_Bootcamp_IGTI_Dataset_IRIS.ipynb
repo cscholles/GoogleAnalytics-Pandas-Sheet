{
  "nbformat": 4,
  "nbformat_minor": 0,
  "metadata": {
    "colab": {
      "name": "Exercício_3_Bootcamp_IGTI_Dataset_IRIS",
      "provenance": [],
      "authorship_tag": "ABX9TyNhBCh38UZpulCfdLw1Itzq",
      "include_colab_link": true
    },
    "kernelspec": {
      "name": "python3",
      "display_name": "Python 3"
    }
  },
  "cells": [
    {
      "cell_type": "markdown",
      "metadata": {
        "id": "view-in-github",
        "colab_type": "text"
      },
      "source": [
        "<a href=\"https://colab.research.google.com/github/cscholles/GoogleAnalytics-Pandas-Sheet/blob/master/Exerc%C3%ADcio_3_Bootcamp_IGTI_Dataset_IRIS.ipynb\" target=\"_parent\"><img src=\"https://colab.research.google.com/assets/colab-badge.svg\" alt=\"Open In Colab\"/></a>"
      ]
    },
    {
      "cell_type": "markdown",
      "metadata": {
        "id": "ls4Hu064FBMx",
        "colab_type": "text"
      },
      "source": [
        "#Machine Learning com o Conjunto de dados IRIS\n",
        "\n",
        "O conjunto de dados IRIS talvez seja o mais clássico dos conjuntos de testes de algoritmos de classificação. Ele divide amostras de plantas em três espécies diferentes e tem, como features, a altura e largura de duas partes da planta: a sépala e as pétalas."
      ]
    },
    {
      "cell_type": "markdown",
      "metadata": {
        "id": "SyItYe4LFH34",
        "colab_type": "text"
      },
      "source": [
        "*EXERCÍCIO DO BOOTCAMP:* Neste trabalho você deve classificar esse conjunto de dados com pelo menos dois algoritmos. Você deverá analisá-los segundo as métricas de qualidade que julgar relevantes, e utilizar técnicas de busca de hiperparâmetros e validação cruzada para tornar seus resultados mais robustos."
      ]
    },
    {
      "cell_type": "markdown",
      "metadata": {
        "id": "kTzRhfmCFI-A",
        "colab_type": "text"
      },
      "source": [
        "Fonte: http://scikit-learn.org/stable/modules/generated/sklearn.datasets.load_iris.html\n"
      ]
    },
    {
      "cell_type": "markdown",
      "metadata": {
        "id": "OpbU2A4VWiBS",
        "colab_type": "text"
      },
      "source": [
        "##Explicação sobre o dataset: \n",
        "O conjunto de dados Iris é um conjunto de dados clássico para classificação, aprendizado de máquina e visualização de dados.\n",
        "\n",
        "O conjunto de dados contém: 3 classes (diferentes espécies de íris) com 50 amostras cada e quatro propriedades numéricas sobre essas classes: Comprimento da sépala, Largura da sépala, Comprimento da pétala e Largura da pétala.\n",
        "\n",
        "Uma espécie, Iris Setosa, é \"linearmente separável\" das outras duas. Isso significa que podemos desenhar uma linha (ou um hiperplano em espaços de maior dimensão) entre amostras de Iris Setosa e amostras correspondentes às outras duas espécies.\n",
        "\n",
        "Atributo previsto: Diferentes espécies da planta íris."
      ]
    },
    {
      "cell_type": "markdown",
      "metadata": {
        "id": "llxqEJ_ui5lm",
        "colab_type": "text"
      },
      "source": [
        "Imagens das espécies de flores para referência:"
      ]
    },
    {
      "cell_type": "markdown",
      "metadata": {
        "id": "nQcFlltfhQCQ",
        "colab_type": "text"
      },
      "source": [
        "![alt text](https://carolinescholles.com/content/images/2020/06/petal.png)"
      ]
    },
    {
      "cell_type": "markdown",
      "metadata": {
        "id": "0peR3vDvFRvT",
        "colab_type": "text"
      },
      "source": [
        "#Código inicial\n"
      ]
    },
    {
      "cell_type": "code",
      "metadata": {
        "id": "g3CHAjF0EoHZ",
        "colab_type": "code",
        "colab": {
          "base_uri": "https://localhost:8080/",
          "height": 33
        },
        "outputId": "494fd7aa-2034-467e-b1e9-ac5b3fc00518"
      },
      "source": [
        "from sklearn import datasets\n",
        "from sklearn.decomposition import PCA\n",
        "iris = datasets.load_iris()\n",
        "X = iris.data[:, :2] # pegamos as primeiras duas features aqui. (Sepal Lenght in cm and sepal width in cm)\n",
        "y = iris.target\n",
        "y[0] # classe do primeiro elemento\n",
        "X[:1, :] # primeiro elemento a classificar\n"
      ],
      "execution_count": 1,
      "outputs": [
        {
          "output_type": "execute_result",
          "data": {
            "text/plain": [
              "array([[5.1, 3.5]])"
            ]
          },
          "metadata": {
            "tags": []
          },
          "execution_count": 1
        }
      ]
    },
    {
      "cell_type": "code",
      "metadata": {
        "id": "Y1FeF_F1MhSJ",
        "colab_type": "code",
        "colab": {
          "base_uri": "https://localhost:8080/",
          "height": 131
        },
        "outputId": "a7ca5622-c45d-4a80-b862-3739117ec4fc"
      },
      "source": [
        "print(iris.feature_names) #Features elemento X\n",
        "print(iris.target_names)\n",
        "print(iris.target) #classe do primeiro elemento Y. São 3 classes: 0 = setosa, 1 = versicolor, 2 = virginica"
      ],
      "execution_count": 2,
      "outputs": [
        {
          "output_type": "stream",
          "text": [
            "['sepal length (cm)', 'sepal width (cm)', 'petal length (cm)', 'petal width (cm)']\n",
            "['setosa' 'versicolor' 'virginica']\n",
            "[0 0 0 0 0 0 0 0 0 0 0 0 0 0 0 0 0 0 0 0 0 0 0 0 0 0 0 0 0 0 0 0 0 0 0 0 0\n",
            " 0 0 0 0 0 0 0 0 0 0 0 0 0 1 1 1 1 1 1 1 1 1 1 1 1 1 1 1 1 1 1 1 1 1 1 1 1\n",
            " 1 1 1 1 1 1 1 1 1 1 1 1 1 1 1 1 1 1 1 1 1 1 1 1 1 1 2 2 2 2 2 2 2 2 2 2 2\n",
            " 2 2 2 2 2 2 2 2 2 2 2 2 2 2 2 2 2 2 2 2 2 2 2 2 2 2 2 2 2 2 2 2 2 2 2 2 2\n",
            " 2 2]\n"
          ],
          "name": "stdout"
        }
      ]
    },
    {
      "cell_type": "markdown",
      "metadata": {
        "id": "e98Yz3jhNt41",
        "colab_type": "text"
      },
      "source": [
        "Pelo dataset, é possível ver que estamos lidando com um problema de classificação. Estamos prevendo uma resposta (outcome, label ou variável dependente) categórica.\n",
        "\n",
        "Outra previsão possível seria a regressão, mas não serve para esse caso pois a resposta teria que ser ordenada e contínua."
      ]
    },
    {
      "cell_type": "code",
      "metadata": {
        "id": "6dJllLeCPTWD",
        "colab_type": "code",
        "colab": {
          "base_uri": "https://localhost:8080/",
          "height": 82
        },
        "outputId": "7453e117-1610-4b57-9667-5ec5ccd5e032"
      },
      "source": [
        "print(type(iris.data))\n",
        "print(type(iris.target))\n",
        "print(iris.data.shape)\n",
        "print(iris.target.shape)"
      ],
      "execution_count": 3,
      "outputs": [
        {
          "output_type": "stream",
          "text": [
            "<class 'numpy.ndarray'>\n",
            "<class 'numpy.ndarray'>\n",
            "(150, 4)\n",
            "(150,)\n"
          ],
          "name": "stdout"
        }
      ]
    },
    {
      "cell_type": "markdown",
      "metadata": {
        "id": "mXHkkleQcEBl",
        "colab_type": "text"
      },
      "source": [
        "#Análise Exploratória com Pandas"
      ]
    },
    {
      "cell_type": "code",
      "metadata": {
        "id": "aWEyfLx-bdRf",
        "colab_type": "code",
        "colab": {
          "base_uri": "https://localhost:8080/",
          "height": 191
        },
        "outputId": "6a252b08-8ba6-4925-e12e-bf1ef2afd5e9"
      },
      "source": [
        "import pandas as pd #importar pandas\n",
        "import numpy as np\n",
        "\n",
        "df=pd.DataFrame(data= np.c_[iris['data'], iris['target']], #criar df\n",
        "                 columns= iris['feature_names'] + ['target'])\n",
        "\n",
        "df['species'] = pd.Categorical.from_codes(iris.target, iris.target_names)\n",
        "df.head(5)"
      ],
      "execution_count": 4,
      "outputs": [
        {
          "output_type": "execute_result",
          "data": {
            "text/html": [
              "<div>\n",
              "<style scoped>\n",
              "    .dataframe tbody tr th:only-of-type {\n",
              "        vertical-align: middle;\n",
              "    }\n",
              "\n",
              "    .dataframe tbody tr th {\n",
              "        vertical-align: top;\n",
              "    }\n",
              "\n",
              "    .dataframe thead th {\n",
              "        text-align: right;\n",
              "    }\n",
              "</style>\n",
              "<table border=\"1\" class=\"dataframe\">\n",
              "  <thead>\n",
              "    <tr style=\"text-align: right;\">\n",
              "      <th></th>\n",
              "      <th>sepal length (cm)</th>\n",
              "      <th>sepal width (cm)</th>\n",
              "      <th>petal length (cm)</th>\n",
              "      <th>petal width (cm)</th>\n",
              "      <th>target</th>\n",
              "      <th>species</th>\n",
              "    </tr>\n",
              "  </thead>\n",
              "  <tbody>\n",
              "    <tr>\n",
              "      <th>0</th>\n",
              "      <td>5.1</td>\n",
              "      <td>3.5</td>\n",
              "      <td>1.4</td>\n",
              "      <td>0.2</td>\n",
              "      <td>0.0</td>\n",
              "      <td>setosa</td>\n",
              "    </tr>\n",
              "    <tr>\n",
              "      <th>1</th>\n",
              "      <td>4.9</td>\n",
              "      <td>3.0</td>\n",
              "      <td>1.4</td>\n",
              "      <td>0.2</td>\n",
              "      <td>0.0</td>\n",
              "      <td>setosa</td>\n",
              "    </tr>\n",
              "    <tr>\n",
              "      <th>2</th>\n",
              "      <td>4.7</td>\n",
              "      <td>3.2</td>\n",
              "      <td>1.3</td>\n",
              "      <td>0.2</td>\n",
              "      <td>0.0</td>\n",
              "      <td>setosa</td>\n",
              "    </tr>\n",
              "    <tr>\n",
              "      <th>3</th>\n",
              "      <td>4.6</td>\n",
              "      <td>3.1</td>\n",
              "      <td>1.5</td>\n",
              "      <td>0.2</td>\n",
              "      <td>0.0</td>\n",
              "      <td>setosa</td>\n",
              "    </tr>\n",
              "    <tr>\n",
              "      <th>4</th>\n",
              "      <td>5.0</td>\n",
              "      <td>3.6</td>\n",
              "      <td>1.4</td>\n",
              "      <td>0.2</td>\n",
              "      <td>0.0</td>\n",
              "      <td>setosa</td>\n",
              "    </tr>\n",
              "  </tbody>\n",
              "</table>\n",
              "</div>"
            ],
            "text/plain": [
              "   sepal length (cm)  sepal width (cm)  ...  target  species\n",
              "0                5.1               3.5  ...     0.0   setosa\n",
              "1                4.9               3.0  ...     0.0   setosa\n",
              "2                4.7               3.2  ...     0.0   setosa\n",
              "3                4.6               3.1  ...     0.0   setosa\n",
              "4                5.0               3.6  ...     0.0   setosa\n",
              "\n",
              "[5 rows x 6 columns]"
            ]
          },
          "metadata": {
            "tags": []
          },
          "execution_count": 4
        }
      ]
    },
    {
      "cell_type": "code",
      "metadata": {
        "id": "6TmdTCKHcNZn",
        "colab_type": "code",
        "colab": {
          "base_uri": "https://localhost:8080/",
          "height": 228
        },
        "outputId": "ee06101c-9660-44ad-a2b7-b91e1bd9eda1"
      },
      "source": [
        "df.info()"
      ],
      "execution_count": 5,
      "outputs": [
        {
          "output_type": "stream",
          "text": [
            "<class 'pandas.core.frame.DataFrame'>\n",
            "RangeIndex: 150 entries, 0 to 149\n",
            "Data columns (total 6 columns):\n",
            " #   Column             Non-Null Count  Dtype   \n",
            "---  ------             --------------  -----   \n",
            " 0   sepal length (cm)  150 non-null    float64 \n",
            " 1   sepal width (cm)   150 non-null    float64 \n",
            " 2   petal length (cm)  150 non-null    float64 \n",
            " 3   petal width (cm)   150 non-null    float64 \n",
            " 4   target             150 non-null    float64 \n",
            " 5   species            150 non-null    category\n",
            "dtypes: category(1), float64(5)\n",
            "memory usage: 6.2 KB\n"
          ],
          "name": "stdout"
        }
      ]
    },
    {
      "cell_type": "code",
      "metadata": {
        "id": "DQnAWlKtcTzr",
        "colab_type": "code",
        "colab": {
          "base_uri": "https://localhost:8080/",
          "height": 33
        },
        "outputId": "9076f556-2f89-42e9-ab88-92ec4f2ce8b1"
      },
      "source": [
        "df.shape"
      ],
      "execution_count": 6,
      "outputs": [
        {
          "output_type": "execute_result",
          "data": {
            "text/plain": [
              "(150, 6)"
            ]
          },
          "metadata": {
            "tags": []
          },
          "execution_count": 6
        }
      ]
    },
    {
      "cell_type": "code",
      "metadata": {
        "id": "xpR3okVicszx",
        "colab_type": "code",
        "colab": {
          "base_uri": "https://localhost:8080/",
          "height": 131
        },
        "outputId": "64d34a98-7a80-42dc-94d8-7df2d6ecbe89"
      },
      "source": [
        "df.isnull().sum() #não temos valores nulos"
      ],
      "execution_count": 7,
      "outputs": [
        {
          "output_type": "execute_result",
          "data": {
            "text/plain": [
              "sepal length (cm)    0\n",
              "sepal width (cm)     0\n",
              "petal length (cm)    0\n",
              "petal width (cm)     0\n",
              "target               0\n",
              "species              0\n",
              "dtype: int64"
            ]
          },
          "metadata": {
            "tags": []
          },
          "execution_count": 7
        }
      ]
    },
    {
      "cell_type": "code",
      "metadata": {
        "id": "rLVPOZl5cz0C",
        "colab_type": "code",
        "colab": {
          "base_uri": "https://localhost:8080/",
          "height": 277
        },
        "outputId": "838a0eb7-e828-4860-85b1-d1e426c1ac20"
      },
      "source": [
        "df.describe() #entendendo os valores do df de forma estatística"
      ],
      "execution_count": 8,
      "outputs": [
        {
          "output_type": "execute_result",
          "data": {
            "text/html": [
              "<div>\n",
              "<style scoped>\n",
              "    .dataframe tbody tr th:only-of-type {\n",
              "        vertical-align: middle;\n",
              "    }\n",
              "\n",
              "    .dataframe tbody tr th {\n",
              "        vertical-align: top;\n",
              "    }\n",
              "\n",
              "    .dataframe thead th {\n",
              "        text-align: right;\n",
              "    }\n",
              "</style>\n",
              "<table border=\"1\" class=\"dataframe\">\n",
              "  <thead>\n",
              "    <tr style=\"text-align: right;\">\n",
              "      <th></th>\n",
              "      <th>sepal length (cm)</th>\n",
              "      <th>sepal width (cm)</th>\n",
              "      <th>petal length (cm)</th>\n",
              "      <th>petal width (cm)</th>\n",
              "      <th>target</th>\n",
              "    </tr>\n",
              "  </thead>\n",
              "  <tbody>\n",
              "    <tr>\n",
              "      <th>count</th>\n",
              "      <td>150.000000</td>\n",
              "      <td>150.000000</td>\n",
              "      <td>150.000000</td>\n",
              "      <td>150.000000</td>\n",
              "      <td>150.000000</td>\n",
              "    </tr>\n",
              "    <tr>\n",
              "      <th>mean</th>\n",
              "      <td>5.843333</td>\n",
              "      <td>3.057333</td>\n",
              "      <td>3.758000</td>\n",
              "      <td>1.199333</td>\n",
              "      <td>1.000000</td>\n",
              "    </tr>\n",
              "    <tr>\n",
              "      <th>std</th>\n",
              "      <td>0.828066</td>\n",
              "      <td>0.435866</td>\n",
              "      <td>1.765298</td>\n",
              "      <td>0.762238</td>\n",
              "      <td>0.819232</td>\n",
              "    </tr>\n",
              "    <tr>\n",
              "      <th>min</th>\n",
              "      <td>4.300000</td>\n",
              "      <td>2.000000</td>\n",
              "      <td>1.000000</td>\n",
              "      <td>0.100000</td>\n",
              "      <td>0.000000</td>\n",
              "    </tr>\n",
              "    <tr>\n",
              "      <th>25%</th>\n",
              "      <td>5.100000</td>\n",
              "      <td>2.800000</td>\n",
              "      <td>1.600000</td>\n",
              "      <td>0.300000</td>\n",
              "      <td>0.000000</td>\n",
              "    </tr>\n",
              "    <tr>\n",
              "      <th>50%</th>\n",
              "      <td>5.800000</td>\n",
              "      <td>3.000000</td>\n",
              "      <td>4.350000</td>\n",
              "      <td>1.300000</td>\n",
              "      <td>1.000000</td>\n",
              "    </tr>\n",
              "    <tr>\n",
              "      <th>75%</th>\n",
              "      <td>6.400000</td>\n",
              "      <td>3.300000</td>\n",
              "      <td>5.100000</td>\n",
              "      <td>1.800000</td>\n",
              "      <td>2.000000</td>\n",
              "    </tr>\n",
              "    <tr>\n",
              "      <th>max</th>\n",
              "      <td>7.900000</td>\n",
              "      <td>4.400000</td>\n",
              "      <td>6.900000</td>\n",
              "      <td>2.500000</td>\n",
              "      <td>2.000000</td>\n",
              "    </tr>\n",
              "  </tbody>\n",
              "</table>\n",
              "</div>"
            ],
            "text/plain": [
              "       sepal length (cm)  sepal width (cm)  ...  petal width (cm)      target\n",
              "count         150.000000        150.000000  ...        150.000000  150.000000\n",
              "mean            5.843333          3.057333  ...          1.199333    1.000000\n",
              "std             0.828066          0.435866  ...          0.762238    0.819232\n",
              "min             4.300000          2.000000  ...          0.100000    0.000000\n",
              "25%             5.100000          2.800000  ...          0.300000    0.000000\n",
              "50%             5.800000          3.000000  ...          1.300000    1.000000\n",
              "75%             6.400000          3.300000  ...          1.800000    2.000000\n",
              "max             7.900000          4.400000  ...          2.500000    2.000000\n",
              "\n",
              "[8 rows x 5 columns]"
            ]
          },
          "metadata": {
            "tags": []
          },
          "execution_count": 8
        }
      ]
    },
    {
      "cell_type": "code",
      "metadata": {
        "id": "0KNNAp6ierCk",
        "colab_type": "code",
        "colab": {
          "base_uri": "https://localhost:8080/",
          "height": 82
        },
        "outputId": "433b016b-e2de-49ae-f836-73bc176128e5"
      },
      "source": [
        "df['species'].value_counts() #ver quantidade de espécies"
      ],
      "execution_count": 9,
      "outputs": [
        {
          "output_type": "execute_result",
          "data": {
            "text/plain": [
              "virginica     50\n",
              "versicolor    50\n",
              "setosa        50\n",
              "Name: species, dtype: int64"
            ]
          },
          "metadata": {
            "tags": []
          },
          "execution_count": 9
        }
      ]
    },
    {
      "cell_type": "markdown",
      "metadata": {
        "id": "kXuJil1ce5-M",
        "colab_type": "text"
      },
      "source": [
        "#Visualização de Dados"
      ]
    },
    {
      "cell_type": "code",
      "metadata": {
        "id": "J-gdsJH9dWR0",
        "colab_type": "code",
        "colab": {
          "base_uri": "https://localhost:8080/",
          "height": 70
        },
        "outputId": "fc752885-f4d0-48f8-9d7f-9bdff241d8a8"
      },
      "source": [
        "import seaborn as sns\n",
        "sns.set_palette('husl')\n",
        "import matplotlib.pyplot as plt\n",
        "%matplotlib inline"
      ],
      "execution_count": 10,
      "outputs": [
        {
          "output_type": "stream",
          "text": [
            "/usr/local/lib/python3.6/dist-packages/statsmodels/tools/_testing.py:19: FutureWarning: pandas.util.testing is deprecated. Use the functions in the public API at pandas.testing instead.\n",
            "  import pandas.util.testing as tm\n"
          ],
          "name": "stderr"
        }
      ]
    },
    {
      "cell_type": "markdown",
      "metadata": {
        "id": "B864t3AGdeUb",
        "colab_type": "text"
      },
      "source": [
        "Análise de correlação: qual o tipo de relação entre as métricas?"
      ]
    },
    {
      "cell_type": "code",
      "metadata": {
        "id": "sOnONtvbc_UD",
        "colab_type": "code",
        "colab": {
          "base_uri": "https://localhost:8080/",
          "height": 565
        },
        "outputId": "44150c55-0eee-43a7-fd6a-c1af688966ec"
      },
      "source": [
        "plt.figure(figsize=(8, 8))\n",
        "matriz_de_correlação = df.corr()  #construindo a matriz de correlação\n",
        "sns.heatmap(matriz_de_correlação, annot=True,vmin=-1, vmax=1,center= 0)  #plotando a matriz de correlação com o seaborn\n",
        "plt.show()"
      ],
      "execution_count": 11,
      "outputs": [
        {
          "output_type": "display_data",
          "data": {
            "image/png": "[encoded data removed]",
            "text/plain": [
              "<Figure size 576x576 with 2 Axes>"
            ]
          },
          "metadata": {
            "tags": [],
            "needs_background": "light"
          }
        }
      ]
    },
    {
      "cell_type": "code",
      "metadata": {
        "id": "1DULcRoddsZF",
        "colab_type": "code",
        "colab": {
          "base_uri": "https://localhost:8080/",
          "height": 747
        },
        "outputId": "55159adf-2846-45a4-ca0e-aaa4772170fa"
      },
      "source": [
        "tmp = df.drop('target', axis=1)\n",
        "g = sns.pairplot(tmp, hue='species', markers='+')\n",
        "plt.show()"
      ],
      "execution_count": 12,
      "outputs": [
        {
          "output_type": "display_data",
          "data": {
            "image/png": "[encoded data removed]",
            "text/plain": [
              "<Figure size 804.75x720 with 20 Axes>"
            ]
          },
          "metadata": {
            "tags": [],
            "needs_background": "light"
          }
        }
      ]
    },
    {
      "cell_type": "markdown",
      "metadata": {
        "id": "c9fV6B4Rf2n0",
        "colab_type": "text"
      },
      "source": [
        "Em relação às outras espécies, setosa foge um pouco do padrão. O cumprimento da sépala é maior, enquanto a largura da pétala é bem menor do que das outras espécies."
      ]
    },
    {
      "cell_type": "markdown",
      "metadata": {
        "id": "l_DVNRx6jj1d",
        "colab_type": "text"
      },
      "source": [
        "#Aplicação de algoritmos"
      ]
    },
    {
      "cell_type": "code",
      "metadata": {
        "id": "f0pvFhYAkJL9",
        "colab_type": "code",
        "colab": {}
      },
      "source": [
        "from sklearn.model_selection import train_test_split\n",
        "X_train, X_test, y_train, y_test = train_test_split(X, y, test_size=0.3, random_state=1) "
      ],
      "execution_count": 13,
      "outputs": []
    },
    {
      "cell_type": "code",
      "metadata": {
        "id": "U648pEatkPAl",
        "colab_type": "code",
        "colab": {
          "base_uri": "https://localhost:8080/",
          "height": 33
        },
        "outputId": "5294757a-fe86-40ab-a698-9dd9aa651b8a"
      },
      "source": [
        "X_train.shape"
      ],
      "execution_count": 14,
      "outputs": [
        {
          "output_type": "execute_result",
          "data": {
            "text/plain": [
              "(105, 2)"
            ]
          },
          "metadata": {
            "tags": []
          },
          "execution_count": 14
        }
      ]
    },
    {
      "cell_type": "markdown",
      "metadata": {
        "id": "D3z-MVnwkWq-",
        "colab_type": "text"
      },
      "source": [
        "#Random Forest"
      ]
    },
    {
      "cell_type": "code",
      "metadata": {
        "id": "chQyHFxtkZxH",
        "colab_type": "code",
        "colab": {
          "base_uri": "https://localhost:8080/",
          "height": 33
        },
        "outputId": "a7ff35b4-4914-4522-a82e-9b7259ad53ef"
      },
      "source": [
        "from sklearn.ensemble import RandomForestClassifier\n",
        "floresta = RandomForestClassifier(max_depth=10, random_state=1)\n",
        "floresta.fit(X_train, y_train)\n",
        "acuracia = floresta.score(X_test, y_test)\n",
        "print('Acurácia da RF: ',acuracia)"
      ],
      "execution_count": 19,
      "outputs": [
        {
          "output_type": "stream",
          "text": [
            "Acurácia da RF:  0.7111111111111111\n"
          ],
          "name": "stdout"
        }
      ]
    },
    {
      "cell_type": "markdown",
      "metadata": {
        "id": "Yw_flcO9ll8y",
        "colab_type": "text"
      },
      "source": [
        "#K-Nearest Neighbors"
      ]
    },
    {
      "cell_type": "code",
      "metadata": {
        "id": "N5HiXW_GlA2Z",
        "colab_type": "code",
        "colab": {
          "base_uri": "https://localhost:8080/",
          "height": 33
        },
        "outputId": "4cf0a60b-1b4e-4d49-cf71-8648c7acf4ad"
      },
      "source": [
        "from sklearn.neighbors import KNeighborsClassifier\n",
        "KNN = KNeighborsClassifier(n_neighbors=3) \n",
        "KNN.fit(X_train, y_train)\n",
        "acuracia = KNN.score(X_test, y_test)\n",
        "print('Acurácia do KNN: ',acuracia)"
      ],
      "execution_count": 22,
      "outputs": [
        {
          "output_type": "stream",
          "text": [
            "Acurácia do KNN:  0.6666666666666666\n"
          ],
          "name": "stdout"
        }
      ]
    },
    {
      "cell_type": "markdown",
      "metadata": {
        "id": "8Ex_4KyFov8N",
        "colab_type": "text"
      },
      "source": [
        ""
      ]
    },
    {
      "cell_type": "markdown",
      "metadata": {
        "id": "wl6Ao6lzrGTm",
        "colab_type": "text"
      },
      "source": [
        "#Validação Cruzada"
      ]
    },
    {
      "cell_type": "code",
      "metadata": {
        "id": "ZZNFcaP-rF8k",
        "colab_type": "code",
        "colab": {
          "base_uri": "https://localhost:8080/",
          "height": 50
        },
        "outputId": "0e80ea39-fa93-4952-ed87-10ae6e6eab1f"
      },
      "source": [
        "from sklearn.model_selection import cross_val_score\n",
        "cv_floresta = cross_val_score(floresta, X, y)\n",
        "cv_knn = cross_val_score(KNN, X, y)\n",
        "\n",
        "print('\\nValidação cruzada: {0} vs {1}'.format(cv_knn, cv_floresta))"
      ],
      "execution_count": 25,
      "outputs": [
        {
          "output_type": "stream",
          "text": [
            "\n",
            "Validação cruzada: [0.66666667 0.8        0.63333333 0.86666667 0.66666667] vs [0.7        0.73333333 0.7        0.76666667 0.76666667]\n"
          ],
          "name": "stdout"
        }
      ]
    },
    {
      "cell_type": "code",
      "metadata": {
        "id": "CSnwgkJPr-bs",
        "colab_type": "code",
        "colab": {
          "base_uri": "https://localhost:8080/",
          "height": 180
        },
        "outputId": "d904c9da-695f-4217-99e2-5eac5823bc0e"
      },
      "source": [
        "#Validação random forest\n",
        "sum_cv_floresta = 0\n",
        "for cv_score in cv_floresta:\n",
        "  sum_cv_floresta += cv_score\n",
        "\n",
        "  print('\\nResultado random forest: {0}'.format(sum_cv_floresta/5))"
      ],
      "execution_count": 29,
      "outputs": [
        {
          "output_type": "stream",
          "text": [
            "\n",
            "Resultado random forest: 0.13999999999999999\n",
            "\n",
            "Resultado random forest: 0.2866666666666666\n",
            "\n",
            "Resultado random forest: 0.4266666666666666\n",
            "\n",
            "Resultado random forest: 0.5799999999999998\n",
            "\n",
            "Resultado random forest: 0.7333333333333332\n"
          ],
          "name": "stdout"
        }
      ]
    },
    {
      "cell_type": "code",
      "metadata": {
        "id": "5fi9QNk3sl4N",
        "colab_type": "code",
        "colab": {
          "base_uri": "https://localhost:8080/",
          "height": 180
        },
        "outputId": "98190a8e-5150-4269-93dd-3a825a30b4d4"
      },
      "source": [
        "#Validação KNN\n",
        "sum_cv_knn = 0\n",
        "for cv_score in cv_knn:\n",
        "  sum_cv_knn += cv_score\n",
        "\n",
        "  print('\\nResultado KNN: {0}'.format(sum_cv_knn/5))\n"
      ],
      "execution_count": 30,
      "outputs": [
        {
          "output_type": "stream",
          "text": [
            "\n",
            "Resultado KNN: 0.13333333333333333\n",
            "\n",
            "Resultado KNN: 0.29333333333333333\n",
            "\n",
            "Resultado KNN: 0.42000000000000004\n",
            "\n",
            "Resultado KNN: 0.5933333333333334\n",
            "\n",
            "Resultado KNN: 0.7266666666666667\n"
          ],
          "name": "stdout"
        }
      ]
    },
    {
      "cell_type": "markdown",
      "metadata": {
        "id": "c8u67zoGtI00",
        "colab_type": "text"
      },
      "source": [
        "#Buscando Hiper Parâmetros"
      ]
    },
    {
      "cell_type": "code",
      "metadata": {
        "id": "amnZO5xLtLSO",
        "colab_type": "code",
        "colab": {}
      },
      "source": [
        "from sklearn.model_selection import GridSearchCV"
      ],
      "execution_count": null,
      "outputs": []
    },
    {
      "cell_type": "code",
      "metadata": {
        "id": "REdn5J1itfPD",
        "colab_type": "code",
        "colab": {}
      },
      "source": [
        "#RFC"
      ],
      "execution_count": null,
      "outputs": []
    },
    {
      "cell_type": "code",
      "metadata": {
        "id": "B32WYwLotfm8",
        "colab_type": "code",
        "colab": {}
      },
      "source": [
        "#KNN"
      ],
      "execution_count": null,
      "outputs": []
    }
  ]
}